{
 "cells": [
  {
   "cell_type": "markdown",
   "metadata": {},
   "source": [
    "Consider the model:\n",
    "\n",
    "$Y = aX + bU + e2$\n",
    "\n",
    "$X = cV + dU + e1$\n",
    "\n",
    "where $U, V, X, Y$ are all one dimensional r.v.s. $V$ is the instrumental variable.\n",
    "\n"
   ]
  },
  {
   "cell_type": "code",
   "execution_count": 7,
   "metadata": {
    "collapsed": true
   },
   "outputs": [],
   "source": [
    "# IV model data generation\n",
    "IV.model.generate <- function(a = 1, b = 1, d = 1, k = 2, samplesize = 1000) {\n",
    "  #  Y = aX + bU + e2\n",
    "  #  X = cV + dU + e1\n",
    "    cc <- matrix(1/sqrt(k), k, 1)\n",
    "  U <- rnorm(samplesize, 0, 1)\n",
    "  V <- matrix(rnorm(samplesize * k, 0, 1), samplesize, k)\n",
    "  e1 <- rnorm(samplesize, 0, .1)\n",
    "  e2 <- rnorm(samplesize, 0, .1)\n",
    "  X <-  V %*% cc + d * U + e1\n",
    "  Y <- a * X + b * U + e2\n",
    "  return(list(X = X, Y = Y, V = V, U = U, e1 = e1, e2 = e2, k = k, samplesize=samplesize))\n",
    "}"
   ]
  },
  {
   "cell_type": "markdown",
   "metadata": {},
   "source": [
    "GMM estimation is as the following\n",
    "\n",
    "1. Given a estimated $W$ of \n",
    "$$\n",
    "\\Omega \\gets \\left(\n",
    "\\mathbb{E} (Y - aX)^2V\\cdot V'\n",
    "\\right)\n",
    "$$\n",
    "2. let $\\hat G$ and $\\hat v$ be \n",
    "$$\n",
    "\\hat G \\gets \\left(\n",
    "- \\overline{XV}\n",
    "\\right),\n",
    "\\hat v \\gets \\left(\n",
    "\\overline{YV}\n",
    "\\right)\n",
    "$$\n",
    "and estimate $\\tilde \\beta$ by \n",
    "$$\n",
    "\\tilde \\beta \\gets (\\hat G' W \\hat G)^{-1} (\\hat G' W \\hat v)\n",
    "$$\n",
    "3. Then define $\\tilde \\Omega$ to be\n",
    "$$\n",
    "\\tilde \\Omega \\gets \\left(\\overline{(Y - \\tilde \\beta X)^2V\\cdot V'}\n",
    "\\right)\n",
    "$$\n",
    "and get the final estimate $\\hat \\beta$ \n",
    "$$\n",
    "\\hat \\beta \\gets (\\hat G' \\tilde \\Omega \\hat G)^{-1} (\\hat G' \\tilde \\Omega \\hat v)$$\n"
   ]
  },
  {
   "cell_type": "code",
   "execution_count": 8,
   "metadata": {
    "collapsed": true
   },
   "outputs": [],
   "source": [
    "rep.col<-function(x,n){\n",
    "   matrix(rep(x,each=n), ncol=n, byrow=TRUE)\n",
    "}\n",
    "homemade.gmm <- function(data, a0) {\n",
    "    y <- data$Y\n",
    "    x <- data$X\n",
    "    v <- data$V\n",
    "    k <- data$k\n",
    "    n <- data$samplesize\n",
    "    err <- rep.col(y - a0*x, k) * v\n",
    "    W <- t(err) %*% (err) / n\n",
    "    hatG <- t(v) %*% x / n\n",
    "    #cat(dim(hatG))\n",
    "    hatv <- t(v) %*% y / n\n",
    "    tilde.a <- (t(hatG) %*% W %*% hatv)/(t(hatG) %*% W %*% hatG)\n",
    "    #cat(' ', dim(tilde.a), ' ', dim(x), ' ')\n",
    "    err <- rep.col(y - x %*% tilde.a, k) * v\n",
    "    tilde.omega <- t(err) %*% (err) / n\n",
    "    hat.a <- (t(hatG) %*% tilde.omega %*% hatv)/(t(hatG) %*% tilde.omega %*% hatG)\n",
    "    return(hat.a) \n",
    "}"
   ]
  },
  {
   "cell_type": "markdown",
   "metadata": {},
   "source": [
    "simulate a thousand times to get an estimate of the bias"
   ]
  },
  {
   "cell_type": "code",
   "execution_count": 25,
   "metadata": {},
   "outputs": [
    {
     "data": {
      "image/png": "[encoded data removed]",
      "text/plain": [
       "Plot with title “GMM estimation for IV model”"
      ]
     },
     "metadata": {},
     "output_type": "display_data"
    }
   ],
   "source": [
    "trials <- 30\n",
    "ks <- seq(1, 100, by = 30)\n",
    "hat.a <- matrix(NA, trials, length(ks))\n",
    "samplesize <- 1000\n",
    "for (j in 1:length(ks)) {\n",
    "    k <- ks[j]\n",
    "    for (i in 1:trials) {\n",
    "        data <- IV.model.generate(samplesize = samplesize, k = k)\n",
    "        hat.a[i, j] <- homemade.gmm(data, 1)\n",
    "    }\n",
    "}\n",
    "\n",
    "boxplot(hat.a, names = ks)\n",
    "title('GMM estimation for IV model')"
   ]
  },
  {
   "cell_type": "markdown",
   "metadata": {},
   "source": [
    "Empirical likelihood estimation\n"
   ]
  },
  {
   "cell_type": "code",
   "execution_count": 23,
   "metadata": {},
   "outputs": [
    {
     "data": {
      "image/png": "[encoded data removed]",
      "text/plain": [
       "Plot with title “GEL estimation for IV model”"
      ]
     },
     "metadata": {},
     "output_type": "display_data"
    }
   ],
   "source": [
    "el <- function(data, a0) {\n",
    "    y <- data$Y\n",
    "    x <- data$X\n",
    "    v <- data$V\n",
    "    k <- data$k\n",
    "    n <- data$samplesize\n",
    "    require('gmm')\n",
    "    g <- y ~ x\n",
    "    res <- gel(g, v)\n",
    "    #print(summary(res))\n",
    "    return(res$coefficients[1])\n",
    "}\n",
    "trials <- 10\n",
    "ks <- seq(1, 100, by = 30)\n",
    "hat.a <- matrix(NA, trials, length(ks))\n",
    "samplesize <- 1000\n",
    "for (j in 1:length(ks)) {\n",
    "    k <- ks[j]\n",
    "    for (i in 1:trials) {\n",
    "        data <- IV.model.generate(samplesize = samplesize, k = k)\n",
    "        hat.a[i, j] <- el(data, 1)\n",
    "    }\n",
    "}\n",
    "\n",
    "boxplot(hat.a, names = ks)\n",
    "title('GEL estimation for IV model')"
   ]
  },
  {
   "cell_type": "code",
   "execution_count": 13,
   "metadata": {},
   "outputs": [
    {
     "name": "stdout",
     "output_type": "stream",
     "text": [
      "[1] 1\n"
     ]
    }
   ],
   "source": [
    "print(1)"
   ]
  },
  {
   "cell_type": "code",
   "execution_count": null,
   "metadata": {
    "collapsed": true
   },
   "outputs": [],
   "source": []
  }
 ],
 "metadata": {
  "kernelspec": {
   "display_name": "R",
   "language": "R",
   "name": "ir"
  },
  "language_info": {
   "codemirror_mode": "r",
   "file_extension": ".r",
   "mimetype": "text/x-r-source",
   "name": "R",
   "pygments_lexer": "r",
   "version": "3.3.1"
  }
 },
 "nbformat": 4,
 "nbformat_minor": 2
}
